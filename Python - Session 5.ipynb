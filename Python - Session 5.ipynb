{
 "cells": [
  {
   "cell_type": "code",
   "execution_count": 1,
   "metadata": {},
   "outputs": [
    {
     "name": "stdout",
     "output_type": "stream",
     "text": [
      "0\n",
      "1\n",
      "2\n",
      "3\n",
      "4\n",
      "5\n",
      "6\n",
      "7\n",
      "8\n",
      "9\n"
     ]
    }
   ],
   "source": [
    "for x in range(10):\n",
    "    print(x)"
   ]
  },
  {
   "cell_type": "code",
   "execution_count": 4,
   "metadata": {},
   "outputs": [
    {
     "name": "stdout",
     "output_type": "stream",
     "text": [
      "3\n",
      "4\n"
     ]
    }
   ],
   "source": [
    "x = 3\n",
    "while x<=10:\n",
    "    print(x)\n",
    "    x+=1\n",
    "    if x == 1000:\n",
    "        break"
   ]
  },
  {
   "cell_type": "code",
   "execution_count": 15,
   "metadata": {},
   "outputs": [
    {
     "name": "stdout",
     "output_type": "stream",
     "text": [
      "Enter the interest rate0.05\n",
      "1 105000.0 0.05\n",
      "2 110250.0 0.05\n",
      "3 115762.5 0.05\n",
      "4 121550.625 0.05\n",
      "5 127628.15625 0.05\n",
      "6 134009.5640625 0.05\n",
      "7 140710.042265625 0.05\n",
      "8 147745.54437890626 0.05\n",
      "9 155132.82159785158 0.05\n",
      "10 162889.46267774416 0.05\n",
      "11 171033.93581163138 0.05\n",
      "12 179585.63260221295 0.05\n",
      "13 188564.9142323236 0.05\n",
      "14 197993.15994393977 0.05\n",
      "15 207892.81794113675 0.05\n"
     ]
    }
   ],
   "source": [
    "interest = float(input(\"Enter the interest rate\"))\n",
    "prin = 100000\n",
    "y = 0\n",
    "while prin <= 200000:\n",
    "    prin = prin + (prin*interest) #prin = prin + (prin*int)\n",
    "    y+=1\n",
    "    print(y, prin, interest)"
   ]
  },
  {
   "cell_type": "code",
   "execution_count": 1,
   "metadata": {},
   "outputs": [
    {
     "name": "stdout",
     "output_type": "stream",
     "text": [
      "Enter your lucky number10\n",
      "Better luck next time\n",
      "Enter your lucky number3\n",
      "Better luck next time\n",
      "Enter your lucky number9\n",
      "Better luck next time\n",
      "Enter your lucky number7\n",
      "Congratulations!!, you are seriously LUCKY\n"
     ]
    }
   ],
   "source": [
    "magic_number = 7\n",
    "while True:\n",
    "    user_number = int(input(\"Enter your lucky number\"))\n",
    "    if int(user_number) == magic_number:\n",
    "        print(\"Congratulations!!, you are seriously LUCKY\")\n",
    "        break\n",
    "    else:\n",
    "        print(\"Better luck next time\")   "
   ]
  },
  {
   "cell_type": "markdown",
   "metadata": {},
   "source": [
    "<h1>Functions</h1>"
   ]
  },
  {
   "cell_type": "code",
   "execution_count": null,
   "metadata": {},
   "outputs": [],
   "source": [
    "Inbuilt functions discussed till today: print(), type(), id(), input(), etc."
   ]
  },
  {
   "cell_type": "code",
   "execution_count": 3,
   "metadata": {},
   "outputs": [
    {
     "data": {
      "text/plain": [
       "int"
      ]
     },
     "execution_count": 3,
     "metadata": {},
     "output_type": "execute_result"
    }
   ],
   "source": [
    "type(magic_number)"
   ]
  },
  {
   "cell_type": "code",
   "execution_count": 4,
   "metadata": {},
   "outputs": [],
   "source": [
    "def name():\n",
    "    print(\"My name is kashish\")"
   ]
  },
  {
   "cell_type": "code",
   "execution_count": 5,
   "metadata": {},
   "outputs": [
    {
     "name": "stdout",
     "output_type": "stream",
     "text": [
      "My name is kashish\n"
     ]
    }
   ],
   "source": [
    "name()"
   ]
  },
  {
   "cell_type": "code",
   "execution_count": 11,
   "metadata": {},
   "outputs": [
    {
     "name": "stdout",
     "output_type": "stream",
     "text": [
      "Your name is XYZ\n"
     ]
    }
   ],
   "source": [
    "name(\"Your name is XYZ\")"
   ]
  },
  {
   "cell_type": "code",
   "execution_count": 12,
   "metadata": {},
   "outputs": [],
   "source": [
    "def name(nm):\n",
    "    print(nm)\n",
    "    print(\"Age is 10\")"
   ]
  },
  {
   "cell_type": "code",
   "execution_count": 13,
   "metadata": {},
   "outputs": [
    {
     "name": "stdout",
     "output_type": "stream",
     "text": [
      "Kashish\n",
      "Age is 10\n"
     ]
    }
   ],
   "source": [
    "name(\"Kashish\")"
   ]
  },
  {
   "cell_type": "code",
   "execution_count": 14,
   "metadata": {},
   "outputs": [],
   "source": [
    "def currency_converter(shares):\n",
    "    total_value = shares * 70\n",
    "    print(total_value) "
   ]
  },
  {
   "cell_type": "code",
   "execution_count": 16,
   "metadata": {},
   "outputs": [
    {
     "name": "stdout",
     "output_type": "stream",
     "text": [
      "700\n"
     ]
    }
   ],
   "source": [
    "currency_converter(10)"
   ]
  },
  {
   "cell_type": "code",
   "execution_count": 24,
   "metadata": {},
   "outputs": [],
   "source": [
    "def currency_converter2(shares,usd_val):\n",
    "    total_value = shares * usd_val\n",
    "    print(total_value) "
   ]
  },
  {
   "cell_type": "code",
   "execution_count": 20,
   "metadata": {},
   "outputs": [
    {
     "name": "stdout",
     "output_type": "stream",
     "text": [
      "576\n"
     ]
    }
   ],
   "source": [
    "currency_converter2(8,72)"
   ]
  },
  {
   "cell_type": "code",
   "execution_count": 25,
   "metadata": {},
   "outputs": [],
   "source": [
    "def currency_converter3(shares,euro_val):\n",
    "    total_value = shares * euro_val\n",
    "    print(total_value) "
   ]
  },
  {
   "cell_type": "code",
   "execution_count": 1,
   "metadata": {},
   "outputs": [
    {
     "name": "stdout",
     "output_type": "stream",
     "text": [
      "Tell your currency, USD or EUROUSD\n"
     ]
    },
    {
     "ename": "NameError",
     "evalue": "name 'currency_converter2' is not defined",
     "output_type": "error",
     "traceback": [
      "\u001b[1;31m---------------------------------------------------------------------------\u001b[0m",
      "\u001b[1;31mNameError\u001b[0m                                 Traceback (most recent call last)",
      "\u001b[1;32m<ipython-input-1-0cfa01fc028f>\u001b[0m in \u001b[0;36m<module>\u001b[1;34m\u001b[0m\n\u001b[0;32m      3\u001b[0m     \u001b[0mcurrency_converter3\u001b[0m\u001b[1;33m(\u001b[0m\u001b[1;36m9\u001b[0m\u001b[1;33m,\u001b[0m\u001b[1;36m80\u001b[0m\u001b[1;33m)\u001b[0m\u001b[1;33m\u001b[0m\u001b[1;33m\u001b[0m\u001b[0m\n\u001b[0;32m      4\u001b[0m \u001b[1;32melif\u001b[0m \u001b[0mcurrency\u001b[0m \u001b[1;33m==\u001b[0m \u001b[1;34m\"USD\"\u001b[0m\u001b[1;33m:\u001b[0m\u001b[1;33m\u001b[0m\u001b[1;33m\u001b[0m\u001b[0m\n\u001b[1;32m----> 5\u001b[1;33m     \u001b[0mcurrency_converter2\u001b[0m\u001b[1;33m(\u001b[0m\u001b[1;36m10\u001b[0m\u001b[1;33m,\u001b[0m\u001b[1;36m70\u001b[0m\u001b[1;33m)\u001b[0m\u001b[1;33m\u001b[0m\u001b[1;33m\u001b[0m\u001b[0m\n\u001b[0m",
      "\u001b[1;31mNameError\u001b[0m: name 'currency_converter2' is not defined"
     ]
    }
   ],
   "source": [
    "currency = input(\"Tell your currency, USD or EURO\")\n",
    "if currency == \"EURO\":\n",
    "    currency_converter3(9,80)\n",
    "elif currency == \"USD\":\n",
    "    currency_converter2(10,70)"
   ]
  },
  {
   "cell_type": "code",
   "execution_count": null,
   "metadata": {},
   "outputs": [],
   "source": []
  }
 ],
 "metadata": {
  "kernelspec": {
   "display_name": "Python 3",
   "language": "python",
   "name": "python3"
  },
  "language_info": {
   "codemirror_mode": {
    "name": "ipython",
    "version": 3
   },
   "file_extension": ".py",
   "mimetype": "text/x-python",
   "name": "python",
   "nbconvert_exporter": "python",
   "pygments_lexer": "ipython3",
   "version": "3.7.4"
  }
 },
 "nbformat": 4,
 "nbformat_minor": 2
}
